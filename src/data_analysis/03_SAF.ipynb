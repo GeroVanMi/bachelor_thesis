{
 "cells": [
  {
   "cell_type": "code",
   "execution_count": 5,
   "id": "ba478931-bf1f-47b8-b1ae-bb799abe92e4",
   "metadata": {},
   "outputs": [],
   "source": [
    "from saf_loader import load_saf_huggingface_splits, load_saf"
   ]
  },
  {
   "cell_type": "code",
   "execution_count": 6,
   "id": "fd0d18f6-27a3-4eb1-a8b1-18060f815150",
   "metadata": {},
   "outputs": [],
   "source": [
    "saf_datasets = load_saf_huggingface_splits()"
   ]
  },
  {
   "cell_type": "code",
   "execution_count": 7,
   "id": "ca07af14-75d5-4dcf-ad5d-f9c3f7f0cf52",
   "metadata": {},
   "outputs": [
    {
     "data": {
      "text/plain": [
       "DatasetDict({\n",
       "    train: Dataset({\n",
       "        features: ['id', 'question', 'reference_answer', 'provided_answer', 'answer_feedback', 'verification_feedback', 'score'],\n",
       "        num_rows: 1700\n",
       "    })\n",
       "    validation: Dataset({\n",
       "        features: ['id', 'question', 'reference_answer', 'provided_answer', 'answer_feedback', 'verification_feedback', 'score'],\n",
       "        num_rows: 427\n",
       "    })\n",
       "    test_unseen_answers: Dataset({\n",
       "        features: ['id', 'question', 'reference_answer', 'provided_answer', 'answer_feedback', 'verification_feedback', 'score'],\n",
       "        num_rows: 375\n",
       "    })\n",
       "    test_unseen_questions: Dataset({\n",
       "        features: ['id', 'question', 'reference_answer', 'provided_answer', 'answer_feedback', 'verification_feedback', 'score'],\n",
       "        num_rows: 479\n",
       "    })\n",
       "})"
      ]
     },
     "execution_count": 7,
     "metadata": {},
     "output_type": "execute_result"
    }
   ],
   "source": [
    "saf_datasets"
   ]
  },
  {
   "cell_type": "code",
   "execution_count": 9,
   "id": "2ec9c3a9-82d8-4043-b90d-101c585e42f0",
   "metadata": {},
   "outputs": [],
   "source": [
    "full_saf_dataset = saf_loader.load_saf()"
   ]
  },
  {
   "cell_type": "code",
   "execution_count": 10,
   "id": "a4728c25-64ff-4233-ac65-372614d280b0",
   "metadata": {},
   "outputs": [
    {
     "data": {
      "text/html": [
       "<div>\n",
       "<style scoped>\n",
       "    .dataframe tbody tr th:only-of-type {\n",
       "        vertical-align: middle;\n",
       "    }\n",
       "\n",
       "    .dataframe tbody tr th {\n",
       "        vertical-align: top;\n",
       "    }\n",
       "\n",
       "    .dataframe thead th {\n",
       "        text-align: right;\n",
       "    }\n",
       "</style>\n",
       "<table border=\"1\" class=\"dataframe\">\n",
       "  <thead>\n",
       "    <tr style=\"text-align: right;\">\n",
       "      <th></th>\n",
       "      <th>id</th>\n",
       "      <th>question</th>\n",
       "      <th>reference_answer</th>\n",
       "      <th>provided_answer</th>\n",
       "      <th>answer_feedback</th>\n",
       "      <th>verification_feedback</th>\n",
       "      <th>score</th>\n",
       "      <th>split</th>\n",
       "    </tr>\n",
       "  </thead>\n",
       "  <tbody>\n",
       "    <tr>\n",
       "      <th>0</th>\n",
       "      <td>6a31b925382d4e31a417cc78399dbff2</td>\n",
       "      <td>What is \"frame bursting\"? Also, give 1 advanta...</td>\n",
       "      <td>Frame bursting reduces the overhead for transm...</td>\n",
       "      <td>Frame bursting is a feature for the IEEE 802.3...</td>\n",
       "      <td>The response correctly answers the advantage a...</td>\n",
       "      <td>Partially correct</td>\n",
       "      <td>0.5</td>\n",
       "      <td>train</td>\n",
       "    </tr>\n",
       "    <tr>\n",
       "      <th>1</th>\n",
       "      <td>fa2712ae605143e1a277ad6df6c2d7b3</td>\n",
       "      <td>Discuss 3 methods (each with at least one adva...</td>\n",
       "      <td>1. to use temporarily valid TSAPs -method: -TS...</td>\n",
       "      <td>1. Use of temporarily valid TSAPs:\\n2. Indenti...</td>\n",
       "      <td>Only names mentioned.</td>\n",
       "      <td>Partially correct</td>\n",
       "      <td>0.5</td>\n",
       "      <td>train</td>\n",
       "    </tr>\n",
       "    <tr>\n",
       "      <th>2</th>\n",
       "      <td>76a8b716eb8f4bdf8ef918aa1ab467ad</td>\n",
       "      <td>Consider a single server queueing system with ...</td>\n",
       "      <td>Since we have a buffer size (N) of 10, we will...</td>\n",
       "      <td>This can be calculated by using the blocking p...</td>\n",
       "      <td>The response correctly states the non-blocking...</td>\n",
       "      <td>Correct</td>\n",
       "      <td>1.0</td>\n",
       "      <td>train</td>\n",
       "    </tr>\n",
       "    <tr>\n",
       "      <th>3</th>\n",
       "      <td>99a2b05b1e8c42f09feeae71be973b31</td>\n",
       "      <td>WHAT is the purpose of Reverse Path Forwarding...</td>\n",
       "      <td>Purpose: Both implement a more efficient kind ...</td>\n",
       "      <td>The purpose of these two algorithms is to broa...</td>\n",
       "      <td>The response correctly answers the purpose and...</td>\n",
       "      <td>Partially correct</td>\n",
       "      <td>0.9</td>\n",
       "      <td>train</td>\n",
       "    </tr>\n",
       "    <tr>\n",
       "      <th>4</th>\n",
       "      <td>435d0324512d46cf8c23f34fa71b950c</td>\n",
       "      <td>What are extension headers in IPv6 and where a...</td>\n",
       "      <td>Extension headers are used to extend the fixed...</td>\n",
       "      <td>Extension headers are optional headers placed ...</td>\n",
       "      <td>The response answers the description, location...</td>\n",
       "      <td>Correct</td>\n",
       "      <td>1.0</td>\n",
       "      <td>train</td>\n",
       "    </tr>\n",
       "  </tbody>\n",
       "</table>\n",
       "</div>"
      ],
      "text/plain": [
       "                                 id  \\\n",
       "0  6a31b925382d4e31a417cc78399dbff2   \n",
       "1  fa2712ae605143e1a277ad6df6c2d7b3   \n",
       "2  76a8b716eb8f4bdf8ef918aa1ab467ad   \n",
       "3  99a2b05b1e8c42f09feeae71be973b31   \n",
       "4  435d0324512d46cf8c23f34fa71b950c   \n",
       "\n",
       "                                            question  \\\n",
       "0  What is \"frame bursting\"? Also, give 1 advanta...   \n",
       "1  Discuss 3 methods (each with at least one adva...   \n",
       "2  Consider a single server queueing system with ...   \n",
       "3  WHAT is the purpose of Reverse Path Forwarding...   \n",
       "4  What are extension headers in IPv6 and where a...   \n",
       "\n",
       "                                    reference_answer  \\\n",
       "0  Frame bursting reduces the overhead for transm...   \n",
       "1  1. to use temporarily valid TSAPs -method: -TS...   \n",
       "2  Since we have a buffer size (N) of 10, we will...   \n",
       "3  Purpose: Both implement a more efficient kind ...   \n",
       "4  Extension headers are used to extend the fixed...   \n",
       "\n",
       "                                     provided_answer  \\\n",
       "0  Frame bursting is a feature for the IEEE 802.3...   \n",
       "1  1. Use of temporarily valid TSAPs:\\n2. Indenti...   \n",
       "2  This can be calculated by using the blocking p...   \n",
       "3  The purpose of these two algorithms is to broa...   \n",
       "4  Extension headers are optional headers placed ...   \n",
       "\n",
       "                                     answer_feedback verification_feedback  \\\n",
       "0  The response correctly answers the advantage a...     Partially correct   \n",
       "1                              Only names mentioned.     Partially correct   \n",
       "2  The response correctly states the non-blocking...               Correct   \n",
       "3  The response correctly answers the purpose and...     Partially correct   \n",
       "4  The response answers the description, location...               Correct   \n",
       "\n",
       "   score  split  \n",
       "0    0.5  train  \n",
       "1    0.5  train  \n",
       "2    1.0  train  \n",
       "3    0.9  train  \n",
       "4    1.0  train  "
      ]
     },
     "execution_count": 10,
     "metadata": {},
     "output_type": "execute_result"
    }
   ],
   "source": [
    "full_saf_dataset.head()"
   ]
  },
  {
   "cell_type": "code",
   "execution_count": 11,
   "id": "ab6c0a32-b5d8-4c05-b806-34363a57b468",
   "metadata": {},
   "outputs": [
    {
     "data": {
      "text/plain": [
       "id                        object\n",
       "question                  object\n",
       "reference_answer          object\n",
       "provided_answer           object\n",
       "answer_feedback           object\n",
       "verification_feedback     object\n",
       "score                    float64\n",
       "split                     object\n",
       "dtype: object"
      ]
     },
     "execution_count": 11,
     "metadata": {},
     "output_type": "execute_result"
    }
   ],
   "source": [
    "full_saf_dataset.dtypes"
   ]
  },
  {
   "cell_type": "code",
   "execution_count": 12,
   "id": "9e17120c-6e8a-44cd-be65-34cac5e4a8f1",
   "metadata": {},
   "outputs": [
    {
     "name": "stdout",
     "output_type": "stream",
     "text": [
      "<class 'pandas.core.frame.DataFrame'>\n",
      "Index: 2981 entries, 0 to 478\n",
      "Data columns (total 8 columns):\n",
      " #   Column                 Non-Null Count  Dtype  \n",
      "---  ------                 --------------  -----  \n",
      " 0   id                     2981 non-null   object \n",
      " 1   question               2981 non-null   object \n",
      " 2   reference_answer       2981 non-null   object \n",
      " 3   provided_answer        2981 non-null   object \n",
      " 4   answer_feedback        2981 non-null   object \n",
      " 5   verification_feedback  2981 non-null   object \n",
      " 6   score                  2981 non-null   float64\n",
      " 7   split                  2981 non-null   object \n",
      "dtypes: float64(1), object(7)\n",
      "memory usage: 209.6+ KB\n"
     ]
    }
   ],
   "source": [
    "full_saf_dataset.info()"
   ]
  }
 ],
 "metadata": {
  "kernelspec": {
   "display_name": "Python 3 (ipykernel)",
   "language": "python",
   "name": "python3"
  },
  "language_info": {
   "codemirror_mode": {
    "name": "ipython",
    "version": 3
   },
   "file_extension": ".py",
   "mimetype": "text/x-python",
   "name": "python",
   "nbconvert_exporter": "python",
   "pygments_lexer": "ipython3",
   "version": "3.11.2"
  }
 },
 "nbformat": 4,
 "nbformat_minor": 5
}
