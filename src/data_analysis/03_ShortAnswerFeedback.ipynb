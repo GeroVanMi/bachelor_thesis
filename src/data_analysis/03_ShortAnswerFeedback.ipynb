{
 "cells": [
  {
   "cell_type": "code",
   "execution_count": 1,
   "id": "afb04699-3352-421d-97f7-29d1b84273e8",
   "metadata": {},
   "outputs": [],
   "source": [
    "import pandas as pd"
   ]
  },
  {
   "cell_type": "code",
   "execution_count": 6,
   "id": "4de1980e-9bf4-476f-b826-dcc0e8a498b6",
   "metadata": {},
   "outputs": [],
   "source": [
    "df = pd.read_parquet('../../data/original/Short_Answer_Feedback/train-00000-of-00001-33368fd062630adb.parquet', engine='pyarrow')"
   ]
  },
  {
   "cell_type": "code",
   "execution_count": 7,
   "id": "bf06b201-b8c5-4a04-a4e9-964c6e365cc2",
   "metadata": {},
   "outputs": [
    {
     "data": {
      "text/html": [
       "<div>\n",
       "<style scoped>\n",
       "    .dataframe tbody tr th:only-of-type {\n",
       "        vertical-align: middle;\n",
       "    }\n",
       "\n",
       "    .dataframe tbody tr th {\n",
       "        vertical-align: top;\n",
       "    }\n",
       "\n",
       "    .dataframe thead th {\n",
       "        text-align: right;\n",
       "    }\n",
       "</style>\n",
       "<table border=\"1\" class=\"dataframe\">\n",
       "  <thead>\n",
       "    <tr style=\"text-align: right;\">\n",
       "      <th></th>\n",
       "      <th>score</th>\n",
       "    </tr>\n",
       "  </thead>\n",
       "  <tbody>\n",
       "    <tr>\n",
       "      <th>count</th>\n",
       "      <td>1700.000000</td>\n",
       "    </tr>\n",
       "    <tr>\n",
       "      <th>mean</th>\n",
       "      <td>1.058729</td>\n",
       "    </tr>\n",
       "    <tr>\n",
       "      <th>std</th>\n",
       "      <td>0.744601</td>\n",
       "    </tr>\n",
       "    <tr>\n",
       "      <th>min</th>\n",
       "      <td>0.000000</td>\n",
       "    </tr>\n",
       "    <tr>\n",
       "      <th>25%</th>\n",
       "      <td>0.625000</td>\n",
       "    </tr>\n",
       "    <tr>\n",
       "      <th>50%</th>\n",
       "      <td>1.000000</td>\n",
       "    </tr>\n",
       "    <tr>\n",
       "      <th>75%</th>\n",
       "      <td>1.000000</td>\n",
       "    </tr>\n",
       "    <tr>\n",
       "      <th>max</th>\n",
       "      <td>3.500000</td>\n",
       "    </tr>\n",
       "  </tbody>\n",
       "</table>\n",
       "</div>"
      ],
      "text/plain": [
       "             score\n",
       "count  1700.000000\n",
       "mean      1.058729\n",
       "std       0.744601\n",
       "min       0.000000\n",
       "25%       0.625000\n",
       "50%       1.000000\n",
       "75%       1.000000\n",
       "max       3.500000"
      ]
     },
     "execution_count": 7,
     "metadata": {},
     "output_type": "execute_result"
    }
   ],
   "source": [
    "df.describe()"
   ]
  },
  {
   "cell_type": "code",
   "execution_count": 8,
   "id": "5831cfa4-b092-4289-a738-062a4dbf49d0",
   "metadata": {},
   "outputs": [
    {
     "data": {
      "text/html": [
       "<div>\n",
       "<style scoped>\n",
       "    .dataframe tbody tr th:only-of-type {\n",
       "        vertical-align: middle;\n",
       "    }\n",
       "\n",
       "    .dataframe tbody tr th {\n",
       "        vertical-align: top;\n",
       "    }\n",
       "\n",
       "    .dataframe thead th {\n",
       "        text-align: right;\n",
       "    }\n",
       "</style>\n",
       "<table border=\"1\" class=\"dataframe\">\n",
       "  <thead>\n",
       "    <tr style=\"text-align: right;\">\n",
       "      <th></th>\n",
       "      <th>id</th>\n",
       "      <th>question</th>\n",
       "      <th>reference_answer</th>\n",
       "      <th>provided_answer</th>\n",
       "      <th>answer_feedback</th>\n",
       "      <th>verification_feedback</th>\n",
       "      <th>score</th>\n",
       "    </tr>\n",
       "  </thead>\n",
       "  <tbody>\n",
       "    <tr>\n",
       "      <th>0</th>\n",
       "      <td>6a31b925382d4e31a417cc78399dbff2</td>\n",
       "      <td>What is \"frame bursting\"? Also, give 1 advanta...</td>\n",
       "      <td>Frame bursting reduces the overhead for transm...</td>\n",
       "      <td>Frame bursting is a feature for the IEEE 802.3...</td>\n",
       "      <td>The response correctly answers the advantage a...</td>\n",
       "      <td>Partially correct</td>\n",
       "      <td>0.5</td>\n",
       "    </tr>\n",
       "    <tr>\n",
       "      <th>1</th>\n",
       "      <td>fa2712ae605143e1a277ad6df6c2d7b3</td>\n",
       "      <td>Discuss 3 methods (each with at least one adva...</td>\n",
       "      <td>1. to use temporarily valid TSAPs -method: -TS...</td>\n",
       "      <td>1. Use of temporarily valid TSAPs:\\n2. Indenti...</td>\n",
       "      <td>Only names mentioned.</td>\n",
       "      <td>Partially correct</td>\n",
       "      <td>0.5</td>\n",
       "    </tr>\n",
       "    <tr>\n",
       "      <th>2</th>\n",
       "      <td>76a8b716eb8f4bdf8ef918aa1ab467ad</td>\n",
       "      <td>Consider a single server queueing system with ...</td>\n",
       "      <td>Since we have a buffer size (N) of 10, we will...</td>\n",
       "      <td>This can be calculated by using the blocking p...</td>\n",
       "      <td>The response correctly states the non-blocking...</td>\n",
       "      <td>Correct</td>\n",
       "      <td>1.0</td>\n",
       "    </tr>\n",
       "    <tr>\n",
       "      <th>3</th>\n",
       "      <td>99a2b05b1e8c42f09feeae71be973b31</td>\n",
       "      <td>WHAT is the purpose of Reverse Path Forwarding...</td>\n",
       "      <td>Purpose: Both implement a more efficient kind ...</td>\n",
       "      <td>The purpose of these two algorithms is to broa...</td>\n",
       "      <td>The response correctly answers the purpose and...</td>\n",
       "      <td>Partially correct</td>\n",
       "      <td>0.9</td>\n",
       "    </tr>\n",
       "    <tr>\n",
       "      <th>4</th>\n",
       "      <td>435d0324512d46cf8c23f34fa71b950c</td>\n",
       "      <td>What are extension headers in IPv6 and where a...</td>\n",
       "      <td>Extension headers are used to extend the fixed...</td>\n",
       "      <td>Extension headers are optional headers placed ...</td>\n",
       "      <td>The response answers the description, location...</td>\n",
       "      <td>Correct</td>\n",
       "      <td>1.0</td>\n",
       "    </tr>\n",
       "  </tbody>\n",
       "</table>\n",
       "</div>"
      ],
      "text/plain": [
       "                                 id  \\\n",
       "0  6a31b925382d4e31a417cc78399dbff2   \n",
       "1  fa2712ae605143e1a277ad6df6c2d7b3   \n",
       "2  76a8b716eb8f4bdf8ef918aa1ab467ad   \n",
       "3  99a2b05b1e8c42f09feeae71be973b31   \n",
       "4  435d0324512d46cf8c23f34fa71b950c   \n",
       "\n",
       "                                            question  \\\n",
       "0  What is \"frame bursting\"? Also, give 1 advanta...   \n",
       "1  Discuss 3 methods (each with at least one adva...   \n",
       "2  Consider a single server queueing system with ...   \n",
       "3  WHAT is the purpose of Reverse Path Forwarding...   \n",
       "4  What are extension headers in IPv6 and where a...   \n",
       "\n",
       "                                    reference_answer  \\\n",
       "0  Frame bursting reduces the overhead for transm...   \n",
       "1  1. to use temporarily valid TSAPs -method: -TS...   \n",
       "2  Since we have a buffer size (N) of 10, we will...   \n",
       "3  Purpose: Both implement a more efficient kind ...   \n",
       "4  Extension headers are used to extend the fixed...   \n",
       "\n",
       "                                     provided_answer  \\\n",
       "0  Frame bursting is a feature for the IEEE 802.3...   \n",
       "1  1. Use of temporarily valid TSAPs:\\n2. Indenti...   \n",
       "2  This can be calculated by using the blocking p...   \n",
       "3  The purpose of these two algorithms is to broa...   \n",
       "4  Extension headers are optional headers placed ...   \n",
       "\n",
       "                                     answer_feedback verification_feedback  \\\n",
       "0  The response correctly answers the advantage a...     Partially correct   \n",
       "1                              Only names mentioned.     Partially correct   \n",
       "2  The response correctly states the non-blocking...               Correct   \n",
       "3  The response correctly answers the purpose and...     Partially correct   \n",
       "4  The response answers the description, location...               Correct   \n",
       "\n",
       "   score  \n",
       "0    0.5  \n",
       "1    0.5  \n",
       "2    1.0  \n",
       "3    0.9  \n",
       "4    1.0  "
      ]
     },
     "execution_count": 8,
     "metadata": {},
     "output_type": "execute_result"
    }
   ],
   "source": [
    "df.head()"
   ]
  },
  {
   "cell_type": "code",
   "execution_count": 9,
   "id": "64905b3f-0f07-4bf3-b8b4-b97ce1ba029a",
   "metadata": {},
   "outputs": [
    {
     "data": {
      "text/plain": [
       "id                       1700\n",
       "question                   26\n",
       "reference_answer           26\n",
       "provided_answer          1678\n",
       "answer_feedback           781\n",
       "verification_feedback       3\n",
       "score                      29\n",
       "dtype: int64"
      ]
     },
     "execution_count": 9,
     "metadata": {},
     "output_type": "execute_result"
    }
   ],
   "source": [
    "df.nunique()"
   ]
  }
 ],
 "metadata": {
  "kernelspec": {
   "display_name": "Python 3 (ipykernel)",
   "language": "python",
   "name": "python3"
  },
  "language_info": {
   "codemirror_mode": {
    "name": "ipython",
    "version": 3
   },
   "file_extension": ".py",
   "mimetype": "text/x-python",
   "name": "python",
   "nbconvert_exporter": "python",
   "pygments_lexer": "ipython3",
   "version": "3.11.2"
  }
 },
 "nbformat": 4,
 "nbformat_minor": 5
}
