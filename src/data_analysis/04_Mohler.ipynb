{
 "cells": [
  {
   "cell_type": "code",
   "execution_count": 1,
   "id": "ea84ebdc-1fc6-4c66-a64b-1a6091713828",
   "metadata": {},
   "outputs": [],
   "source": [
    "from mohler_loader import load_mohler, rename_mohler"
   ]
  },
  {
   "cell_type": "code",
   "execution_count": 2,
   "id": "13239433-e4a2-45b6-84c9-3141e64badfe",
   "metadata": {},
   "outputs": [],
   "source": [
    "df = load_mohler()\n",
    "df = rename_mohler(df)"
   ]
  },
  {
   "cell_type": "code",
   "execution_count": 3,
   "id": "b664b7ed-746e-4d2a-b1d7-6aa108bc7643",
   "metadata": {},
   "outputs": [
    {
     "data": {
      "text/html": [
       "<div>\n",
       "<style scoped>\n",
       "    .dataframe tbody tr th:only-of-type {\n",
       "        vertical-align: middle;\n",
       "    }\n",
       "\n",
       "    .dataframe tbody tr th {\n",
       "        vertical-align: top;\n",
       "    }\n",
       "\n",
       "    .dataframe thead th {\n",
       "        text-align: right;\n",
       "    }\n",
       "</style>\n",
       "<table border=\"1\" class=\"dataframe\">\n",
       "  <thead>\n",
       "    <tr style=\"text-align: right;\">\n",
       "      <th></th>\n",
       "      <th>assignment</th>\n",
       "      <th>grade</th>\n",
       "      <th>student_id</th>\n",
       "    </tr>\n",
       "  </thead>\n",
       "  <tbody>\n",
       "    <tr>\n",
       "      <th>count</th>\n",
       "      <td>630.000000</td>\n",
       "      <td>630.000000</td>\n",
       "      <td>630.000000</td>\n",
       "    </tr>\n",
       "    <tr>\n",
       "      <th>mean</th>\n",
       "      <td>2.022222</td>\n",
       "      <td>4.058730</td>\n",
       "      <td>15.655556</td>\n",
       "    </tr>\n",
       "    <tr>\n",
       "      <th>std</th>\n",
       "      <td>0.816843</td>\n",
       "      <td>1.186052</td>\n",
       "      <td>8.881686</td>\n",
       "    </tr>\n",
       "    <tr>\n",
       "      <th>min</th>\n",
       "      <td>1.000000</td>\n",
       "      <td>0.000000</td>\n",
       "      <td>1.000000</td>\n",
       "    </tr>\n",
       "    <tr>\n",
       "      <th>25%</th>\n",
       "      <td>1.000000</td>\n",
       "      <td>3.500000</td>\n",
       "      <td>8.000000</td>\n",
       "    </tr>\n",
       "    <tr>\n",
       "      <th>50%</th>\n",
       "      <td>2.000000</td>\n",
       "      <td>4.500000</td>\n",
       "      <td>15.500000</td>\n",
       "    </tr>\n",
       "    <tr>\n",
       "      <th>75%</th>\n",
       "      <td>3.000000</td>\n",
       "      <td>5.000000</td>\n",
       "      <td>23.000000</td>\n",
       "    </tr>\n",
       "    <tr>\n",
       "      <th>max</th>\n",
       "      <td>3.000000</td>\n",
       "      <td>5.000000</td>\n",
       "      <td>31.000000</td>\n",
       "    </tr>\n",
       "  </tbody>\n",
       "</table>\n",
       "</div>"
      ],
      "text/plain": [
       "       assignment       grade  student_id\n",
       "count  630.000000  630.000000  630.000000\n",
       "mean     2.022222    4.058730   15.655556\n",
       "std      0.816843    1.186052    8.881686\n",
       "min      1.000000    0.000000    1.000000\n",
       "25%      1.000000    3.500000    8.000000\n",
       "50%      2.000000    4.500000   15.500000\n",
       "75%      3.000000    5.000000   23.000000\n",
       "max      3.000000    5.000000   31.000000"
      ]
     },
     "execution_count": 3,
     "metadata": {},
     "output_type": "execute_result"
    }
   ],
   "source": [
    "df.describe()"
   ]
  },
  {
   "cell_type": "code",
   "execution_count": 4,
   "id": "1b119d98-ef6f-4137-af7f-4eb816705bed",
   "metadata": {},
   "outputs": [
    {
     "data": {
      "text/html": [
       "<div>\n",
       "<style scoped>\n",
       "    .dataframe tbody tr th:only-of-type {\n",
       "        vertical-align: middle;\n",
       "    }\n",
       "\n",
       "    .dataframe tbody tr th {\n",
       "        vertical-align: top;\n",
       "    }\n",
       "\n",
       "    .dataframe thead th {\n",
       "        text-align: right;\n",
       "    }\n",
       "</style>\n",
       "<table border=\"1\" class=\"dataframe\">\n",
       "  <thead>\n",
       "    <tr style=\"text-align: right;\">\n",
       "      <th></th>\n",
       "      <th>assignment</th>\n",
       "      <th>question</th>\n",
       "      <th>reference_answer</th>\n",
       "      <th>grade</th>\n",
       "      <th>student_id</th>\n",
       "      <th>provided_answer</th>\n",
       "    </tr>\n",
       "  </thead>\n",
       "  <tbody>\n",
       "    <tr>\n",
       "      <th>0</th>\n",
       "      <td>1</td>\n",
       "      <td>What is the role of a prototype program in pro...</td>\n",
       "      <td>To simulate the behaviour of portions of the d...</td>\n",
       "      <td>3.5</td>\n",
       "      <td>6</td>\n",
       "      <td>High risk problems are address in the prototyp...</td>\n",
       "    </tr>\n",
       "    <tr>\n",
       "      <th>1</th>\n",
       "      <td>1</td>\n",
       "      <td>What is the role of a prototype program in pro...</td>\n",
       "      <td>To simulate the behaviour of portions of the d...</td>\n",
       "      <td>5.0</td>\n",
       "      <td>5</td>\n",
       "      <td>To simulate portions of the desired final prod...</td>\n",
       "    </tr>\n",
       "    <tr>\n",
       "      <th>2</th>\n",
       "      <td>1</td>\n",
       "      <td>What is the role of a prototype program in pro...</td>\n",
       "      <td>To simulate the behaviour of portions of the d...</td>\n",
       "      <td>4.0</td>\n",
       "      <td>8</td>\n",
       "      <td>A prototype program simulates the behaviors of...</td>\n",
       "    </tr>\n",
       "    <tr>\n",
       "      <th>3</th>\n",
       "      <td>1</td>\n",
       "      <td>What is the role of a prototype program in pro...</td>\n",
       "      <td>To simulate the behaviour of portions of the d...</td>\n",
       "      <td>5.0</td>\n",
       "      <td>3</td>\n",
       "      <td>Defined in the Specification phase a prototype...</td>\n",
       "    </tr>\n",
       "    <tr>\n",
       "      <th>4</th>\n",
       "      <td>1</td>\n",
       "      <td>What is the role of a prototype program in pro...</td>\n",
       "      <td>To simulate the behaviour of portions of the d...</td>\n",
       "      <td>3.0</td>\n",
       "      <td>4</td>\n",
       "      <td>It is used to let the users have a first idea ...</td>\n",
       "    </tr>\n",
       "    <tr>\n",
       "      <th>5</th>\n",
       "      <td>1</td>\n",
       "      <td>What is the role of a prototype program in pro...</td>\n",
       "      <td>To simulate the behaviour of portions of the d...</td>\n",
       "      <td>2.0</td>\n",
       "      <td>24</td>\n",
       "      <td>To find problem and errors in a program before...</td>\n",
       "    </tr>\n",
       "    <tr>\n",
       "      <th>6</th>\n",
       "      <td>1</td>\n",
       "      <td>What is the role of a prototype program in pro...</td>\n",
       "      <td>To simulate the behaviour of portions of the d...</td>\n",
       "      <td>2.5</td>\n",
       "      <td>9</td>\n",
       "      <td>To address major issues in the creation of the...</td>\n",
       "    </tr>\n",
       "    <tr>\n",
       "      <th>7</th>\n",
       "      <td>1</td>\n",
       "      <td>What is the role of a prototype program in pro...</td>\n",
       "      <td>To simulate the behaviour of portions of the d...</td>\n",
       "      <td>5.0</td>\n",
       "      <td>22</td>\n",
       "      <td>you can break the whole program into prototype...</td>\n",
       "    </tr>\n",
       "    <tr>\n",
       "      <th>8</th>\n",
       "      <td>1</td>\n",
       "      <td>What is the role of a prototype program in pro...</td>\n",
       "      <td>To simulate the behaviour of portions of the d...</td>\n",
       "      <td>3.5</td>\n",
       "      <td>23</td>\n",
       "      <td>-To provide an example or model of how the fin...</td>\n",
       "    </tr>\n",
       "    <tr>\n",
       "      <th>9</th>\n",
       "      <td>1</td>\n",
       "      <td>What is the role of a prototype program in pro...</td>\n",
       "      <td>To simulate the behaviour of portions of the d...</td>\n",
       "      <td>5.0</td>\n",
       "      <td>2</td>\n",
       "      <td>Simulating the behavior of only a portion of t...</td>\n",
       "    </tr>\n",
       "  </tbody>\n",
       "</table>\n",
       "</div>"
      ],
      "text/plain": [
       "   assignment                                           question  \\\n",
       "0           1  What is the role of a prototype program in pro...   \n",
       "1           1  What is the role of a prototype program in pro...   \n",
       "2           1  What is the role of a prototype program in pro...   \n",
       "3           1  What is the role of a prototype program in pro...   \n",
       "4           1  What is the role of a prototype program in pro...   \n",
       "5           1  What is the role of a prototype program in pro...   \n",
       "6           1  What is the role of a prototype program in pro...   \n",
       "7           1  What is the role of a prototype program in pro...   \n",
       "8           1  What is the role of a prototype program in pro...   \n",
       "9           1  What is the role of a prototype program in pro...   \n",
       "\n",
       "                                    reference_answer  grade  student_id  \\\n",
       "0  To simulate the behaviour of portions of the d...    3.5           6   \n",
       "1  To simulate the behaviour of portions of the d...    5.0           5   \n",
       "2  To simulate the behaviour of portions of the d...    4.0           8   \n",
       "3  To simulate the behaviour of portions of the d...    5.0           3   \n",
       "4  To simulate the behaviour of portions of the d...    3.0           4   \n",
       "5  To simulate the behaviour of portions of the d...    2.0          24   \n",
       "6  To simulate the behaviour of portions of the d...    2.5           9   \n",
       "7  To simulate the behaviour of portions of the d...    5.0          22   \n",
       "8  To simulate the behaviour of portions of the d...    3.5          23   \n",
       "9  To simulate the behaviour of portions of the d...    5.0           2   \n",
       "\n",
       "                                     provided_answer  \n",
       "0  High risk problems are address in the prototyp...  \n",
       "1  To simulate portions of the desired final prod...  \n",
       "2  A prototype program simulates the behaviors of...  \n",
       "3  Defined in the Specification phase a prototype...  \n",
       "4  It is used to let the users have a first idea ...  \n",
       "5  To find problem and errors in a program before...  \n",
       "6  To address major issues in the creation of the...  \n",
       "7  you can break the whole program into prototype...  \n",
       "8  -To provide an example or model of how the fin...  \n",
       "9  Simulating the behavior of only a portion of t...  "
      ]
     },
     "execution_count": 4,
     "metadata": {},
     "output_type": "execute_result"
    }
   ],
   "source": [
    "df.head(10)"
   ]
  },
  {
   "cell_type": "code",
   "execution_count": 5,
   "id": "389a98ba-0c70-4c74-a4f4-552b395b16ee",
   "metadata": {},
   "outputs": [
    {
     "data": {
      "text/plain": [
       "assignment            3\n",
       "question             21\n",
       "reference_answer     21\n",
       "grade                10\n",
       "student_id           31\n",
       "provided_answer     614\n",
       "dtype: int64"
      ]
     },
     "execution_count": 5,
     "metadata": {},
     "output_type": "execute_result"
    }
   ],
   "source": [
    "df.nunique()"
   ]
  },
  {
   "cell_type": "code",
   "execution_count": 8,
   "id": "b7010865-9c52-4b19-bb90-18e304f28a39",
   "metadata": {},
   "outputs": [
    {
     "name": "stdout",
     "output_type": "stream",
     "text": [
      "<class 'pandas.core.frame.DataFrame'>\n",
      "RangeIndex: 630 entries, 0 to 629\n",
      "Data columns (total 6 columns):\n",
      " #   Column            Non-Null Count  Dtype  \n",
      "---  ------            --------------  -----  \n",
      " 0   assignment        630 non-null    int64  \n",
      " 1   question          630 non-null    object \n",
      " 2   reference_answer  630 non-null    object \n",
      " 3   grade             630 non-null    float64\n",
      " 4   student_id        630 non-null    int64  \n",
      " 5   provided_answer   630 non-null    object \n",
      "dtypes: float64(1), int64(2), object(3)\n",
      "memory usage: 29.7+ KB\n"
     ]
    }
   ],
   "source": [
    "df.info()"
   ]
  },
  {
   "cell_type": "code",
   "execution_count": 6,
   "id": "bcff30ec-40c1-4b3c-8bec-69a5665d0117",
   "metadata": {},
   "outputs": [],
   "source": [
    "df.to_csv(\"../../data/original/Mohler_ShortAnswerGrading_v1.0/ShortAnswerGrading_v1.0/northTexasASAG.csv\")"
   ]
  },
  {
   "cell_type": "code",
   "execution_count": 7,
   "id": "dbbf41d5-3856-41d0-aa2f-32714108833b",
   "metadata": {},
   "outputs": [
    {
     "data": {
      "text/plain": [
       "assignment            int64\n",
       "question             object\n",
       "reference_answer     object\n",
       "grade               float64\n",
       "student_id            int64\n",
       "provided_answer      object\n",
       "dtype: object"
      ]
     },
     "execution_count": 7,
     "metadata": {},
     "output_type": "execute_result"
    }
   ],
   "source": [
    "df.dtypes"
   ]
  }
 ],
 "metadata": {
  "kernelspec": {
   "display_name": "Python 3 (ipykernel)",
   "language": "python",
   "name": "python3"
  },
  "language_info": {
   "codemirror_mode": {
    "name": "ipython",
    "version": 3
   },
   "file_extension": ".py",
   "mimetype": "text/x-python",
   "name": "python",
   "nbconvert_exporter": "python",
   "pygments_lexer": "ipython3",
   "version": "3.11.2"
  }
 },
 "nbformat": 4,
 "nbformat_minor": 5
}
