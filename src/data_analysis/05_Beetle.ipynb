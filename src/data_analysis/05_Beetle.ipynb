{
 "cells": [
  {
   "cell_type": "code",
   "execution_count": 1,
   "id": "097ff155-f25c-49e8-ab03-9c5a5c0a0ec4",
   "metadata": {},
   "outputs": [],
   "source": [
    "from beetle_loader import load_beetle, rename_beetle"
   ]
  },
  {
   "cell_type": "code",
   "execution_count": 2,
   "id": "5ed55f92-3b6f-4295-a7a5-86e826a10830",
   "metadata": {},
   "outputs": [
    {
     "data": {
      "text/html": [
       "<div>\n",
       "<style scoped>\n",
       "    .dataframe tbody tr th:only-of-type {\n",
       "        vertical-align: middle;\n",
       "    }\n",
       "\n",
       "    .dataframe tbody tr th {\n",
       "        vertical-align: top;\n",
       "    }\n",
       "\n",
       "    .dataframe thead th {\n",
       "        text-align: right;\n",
       "    }\n",
       "</style>\n",
       "<table border=\"1\" class=\"dataframe\">\n",
       "  <thead>\n",
       "    <tr style=\"text-align: right;\">\n",
       "      <th></th>\n",
       "      <th>grade</th>\n",
       "    </tr>\n",
       "  </thead>\n",
       "  <tbody>\n",
       "    <tr>\n",
       "      <th>count</th>\n",
       "      <td>3941.000000</td>\n",
       "    </tr>\n",
       "    <tr>\n",
       "      <th>mean</th>\n",
       "      <td>2.000000</td>\n",
       "    </tr>\n",
       "    <tr>\n",
       "      <th>std</th>\n",
       "      <td>1.000761</td>\n",
       "    </tr>\n",
       "    <tr>\n",
       "      <th>min</th>\n",
       "      <td>0.000000</td>\n",
       "    </tr>\n",
       "    <tr>\n",
       "      <th>25%</th>\n",
       "      <td>1.000000</td>\n",
       "    </tr>\n",
       "    <tr>\n",
       "      <th>50%</th>\n",
       "      <td>2.000000</td>\n",
       "    </tr>\n",
       "    <tr>\n",
       "      <th>75%</th>\n",
       "      <td>3.000000</td>\n",
       "    </tr>\n",
       "    <tr>\n",
       "      <th>max</th>\n",
       "      <td>3.000000</td>\n",
       "    </tr>\n",
       "  </tbody>\n",
       "</table>\n",
       "</div>"
      ],
      "text/plain": [
       "             grade\n",
       "count  3941.000000\n",
       "mean      2.000000\n",
       "std       1.000761\n",
       "min       0.000000\n",
       "25%       1.000000\n",
       "50%       2.000000\n",
       "75%       3.000000\n",
       "max       3.000000"
      ]
     },
     "execution_count": 2,
     "metadata": {},
     "output_type": "execute_result"
    }
   ],
   "source": [
    "df = load_beetle()\n",
    "df = rename_beetle(df)\n",
    "df.describe()"
   ]
  },
  {
   "cell_type": "code",
   "execution_count": 3,
   "id": "f3aa3dde-3125-4451-90d7-dc4c2ce68cc0",
   "metadata": {},
   "outputs": [
    {
     "data": {
      "text/plain": [
       "question               36\n",
       "provided_answer      3668\n",
       "accuracy                5\n",
       "file_name              47\n",
       "reference_answer       44\n",
       "reference_answer1      11\n",
       "reference_answer2       1\n",
       "grade                   4\n",
       "dtype: int64"
      ]
     },
     "execution_count": 3,
     "metadata": {},
     "output_type": "execute_result"
    }
   ],
   "source": [
    "df.nunique()"
   ]
  },
  {
   "cell_type": "code",
   "execution_count": 4,
   "id": "cbf92afb-e45f-4af2-b470-0a7348f1bb1f",
   "metadata": {},
   "outputs": [
    {
     "data": {
      "text/html": [
       "<div>\n",
       "<style scoped>\n",
       "    .dataframe tbody tr th:only-of-type {\n",
       "        vertical-align: middle;\n",
       "    }\n",
       "\n",
       "    .dataframe tbody tr th {\n",
       "        vertical-align: top;\n",
       "    }\n",
       "\n",
       "    .dataframe thead th {\n",
       "        text-align: right;\n",
       "    }\n",
       "</style>\n",
       "<table border=\"1\" class=\"dataframe\">\n",
       "  <thead>\n",
       "    <tr style=\"text-align: right;\">\n",
       "      <th></th>\n",
       "      <th>question</th>\n",
       "      <th>provided_answer</th>\n",
       "      <th>accuracy</th>\n",
       "      <th>file_name</th>\n",
       "      <th>reference_answer</th>\n",
       "      <th>reference_answer1</th>\n",
       "      <th>reference_answer2</th>\n",
       "      <th>grade</th>\n",
       "    </tr>\n",
       "  </thead>\n",
       "  <tbody>\n",
       "    <tr>\n",
       "      <th>0</th>\n",
       "      <td>Explain why circuit 4 is not a short circuit.</td>\n",
       "      <td>the battery is not contained in a closed path</td>\n",
       "      <td>correct</td>\n",
       "      <td>SwitchesBulbsSeries-SHORT_CIRCUIT_EXPLAIN_Q_4</td>\n",
       "      <td>Circuit 4 has no closed paths</td>\n",
       "      <td>NaN</td>\n",
       "      <td>NaN</td>\n",
       "      <td>3</td>\n",
       "    </tr>\n",
       "    <tr>\n",
       "      <th>1</th>\n",
       "      <td>Explain why circuit 4 is not a short circuit.</td>\n",
       "      <td>the battery is  not contained in a closed path</td>\n",
       "      <td>correct</td>\n",
       "      <td>SwitchesBulbsSeries-SHORT_CIRCUIT_EXPLAIN_Q_4</td>\n",
       "      <td>Circuit 4 has no closed paths</td>\n",
       "      <td>NaN</td>\n",
       "      <td>NaN</td>\n",
       "      <td>3</td>\n",
       "    </tr>\n",
       "    <tr>\n",
       "      <th>2</th>\n",
       "      <td>Explain why circuit 4 is not a short circuit.</td>\n",
       "      <td>Because it is in an incomplete path</td>\n",
       "      <td>contradictory</td>\n",
       "      <td>SwitchesBulbsSeries-SHORT_CIRCUIT_EXPLAIN_Q_4</td>\n",
       "      <td>Circuit 4 has no closed paths</td>\n",
       "      <td>NaN</td>\n",
       "      <td>NaN</td>\n",
       "      <td>1</td>\n",
       "    </tr>\n",
       "    <tr>\n",
       "      <th>3</th>\n",
       "      <td>Explain why circuit 4 is not a short circuit.</td>\n",
       "      <td>The path does not close</td>\n",
       "      <td>correct</td>\n",
       "      <td>SwitchesBulbsSeries-SHORT_CIRCUIT_EXPLAIN_Q_4</td>\n",
       "      <td>Circuit 4 has no closed paths</td>\n",
       "      <td>NaN</td>\n",
       "      <td>NaN</td>\n",
       "      <td>3</td>\n",
       "    </tr>\n",
       "    <tr>\n",
       "      <th>4</th>\n",
       "      <td>Explain why circuit 4 is not a short circuit.</td>\n",
       "      <td>The battery is not in a closed path.</td>\n",
       "      <td>correct</td>\n",
       "      <td>SwitchesBulbsSeries-SHORT_CIRCUIT_EXPLAIN_Q_4</td>\n",
       "      <td>Circuit 4 has no closed paths</td>\n",
       "      <td>NaN</td>\n",
       "      <td>NaN</td>\n",
       "      <td>3</td>\n",
       "    </tr>\n",
       "  </tbody>\n",
       "</table>\n",
       "</div>"
      ],
      "text/plain": [
       "                                        question  \\\n",
       "0  Explain why circuit 4 is not a short circuit.   \n",
       "1  Explain why circuit 4 is not a short circuit.   \n",
       "2  Explain why circuit 4 is not a short circuit.   \n",
       "3  Explain why circuit 4 is not a short circuit.   \n",
       "4  Explain why circuit 4 is not a short circuit.   \n",
       "\n",
       "                                  provided_answer       accuracy  \\\n",
       "0   the battery is not contained in a closed path        correct   \n",
       "1  the battery is  not contained in a closed path        correct   \n",
       "2             Because it is in an incomplete path  contradictory   \n",
       "3                         The path does not close        correct   \n",
       "4            The battery is not in a closed path.        correct   \n",
       "\n",
       "                                       file_name  \\\n",
       "0  SwitchesBulbsSeries-SHORT_CIRCUIT_EXPLAIN_Q_4   \n",
       "1  SwitchesBulbsSeries-SHORT_CIRCUIT_EXPLAIN_Q_4   \n",
       "2  SwitchesBulbsSeries-SHORT_CIRCUIT_EXPLAIN_Q_4   \n",
       "3  SwitchesBulbsSeries-SHORT_CIRCUIT_EXPLAIN_Q_4   \n",
       "4  SwitchesBulbsSeries-SHORT_CIRCUIT_EXPLAIN_Q_4   \n",
       "\n",
       "                reference_answer reference_answer1 reference_answer2  grade  \n",
       "0  Circuit 4 has no closed paths               NaN               NaN      3  \n",
       "1  Circuit 4 has no closed paths               NaN               NaN      3  \n",
       "2  Circuit 4 has no closed paths               NaN               NaN      1  \n",
       "3  Circuit 4 has no closed paths               NaN               NaN      3  \n",
       "4  Circuit 4 has no closed paths               NaN               NaN      3  "
      ]
     },
     "execution_count": 4,
     "metadata": {},
     "output_type": "execute_result"
    }
   ],
   "source": [
    "df.head()"
   ]
  },
  {
   "cell_type": "code",
   "execution_count": 5,
   "id": "1fc583f7-8dfe-4c6f-97dd-b53bbe5ce4dc",
   "metadata": {},
   "outputs": [
    {
     "name": "stdout",
     "output_type": "stream",
     "text": [
      "<class 'pandas.core.frame.DataFrame'>\n",
      "RangeIndex: 3941 entries, 0 to 3940\n",
      "Data columns (total 8 columns):\n",
      " #   Column             Non-Null Count  Dtype \n",
      "---  ------             --------------  ----- \n",
      " 0   question           3941 non-null   object\n",
      " 1   provided_answer    3941 non-null   object\n",
      " 2   accuracy           3941 non-null   object\n",
      " 3   file_name          3941 non-null   object\n",
      " 4   reference_answer   3941 non-null   object\n",
      " 5   reference_answer1  1104 non-null   object\n",
      " 6   reference_answer2  84 non-null     object\n",
      " 7   grade              3941 non-null   int64 \n",
      "dtypes: int64(1), object(7)\n",
      "memory usage: 246.4+ KB\n"
     ]
    }
   ],
   "source": [
    "df.info()"
   ]
  },
  {
   "cell_type": "code",
   "execution_count": 9,
   "id": "851a5b77-c196-4b86-83a7-453e2743c5f4",
   "metadata": {},
   "outputs": [
    {
     "data": {
      "text/plain": [
       "array(['correct', 'contradictory', 'partially_correct_incomplete',\n",
       "       'irrelevant', 'non_domain'], dtype=object)"
      ]
     },
     "execution_count": 9,
     "metadata": {},
     "output_type": "execute_result"
    }
   ],
   "source": [
    "df['accuracy'].unique()"
   ]
  }
 ],
 "metadata": {
  "kernelspec": {
   "display_name": "Python 3 (ipykernel)",
   "language": "python",
   "name": "python3"
  },
  "language_info": {
   "codemirror_mode": {
    "name": "ipython",
    "version": 3
   },
   "file_extension": ".py",
   "mimetype": "text/x-python",
   "name": "python",
   "nbconvert_exporter": "python",
   "pygments_lexer": "ipython3",
   "version": "3.11.2"
  }
 },
 "nbformat": 4,
 "nbformat_minor": 5
}
